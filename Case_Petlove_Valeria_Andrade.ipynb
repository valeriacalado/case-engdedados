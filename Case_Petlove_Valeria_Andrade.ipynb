{
  "metadata": {
    "language_info": {
      "codemirror_mode": {
        "name": "python",
        "version": 3
      },
      "file_extension": ".py",
      "mimetype": "text/x-python",
      "name": "python",
      "nbconvert_exporter": "python",
      "pygments_lexer": "ipython3",
      "version": "3.8"
    },
    "kernelspec": {
      "name": "python",
      "display_name": "Python (Pyodide)",
      "language": "python"
    },
    "colab": {
      "provenance": []
    }
  },
  "nbformat_minor": 0,
  "nbformat": 4,
  "cells": [
    {
      "cell_type": "markdown",
      "source": [
        "# CASE - Petlove - Engenharia de Dados\n",
        "## Valéria Andrade Calado Dantas\n",
        "\n",
        "Neste case apresento minha análise e sugestões visando solucionar o desafio da equipe de Assinatura da Petlove: reduzir a taxa de Churn, ou seja, a perda de assinantes do serviço de assinatura.\n",
        "\n",
        "Ao analisar os dados dos últimos meses, observei que, apesar das melhorias de usabilidade da plataforma, o Churn tem apresentado um aumento preocupante. Com base nessas informações, apliquei técnicas de Engenharia, Ciência e Análise de Dados, a fim de identificar os principais aprendizados e sugerir próximos passos. Durante o processo, busquei compreender os motivos subjacentes ao aumento do Churn e identificar padrões e tendências nos dados disponíveis. Através dessa análise, foram obtidos insights que podem auxiliar a equipe de Assinatura a tomar decisões estratégicas.\n",
        "\n",
        "Através dessa resposta, espero demonstrar minha capacidade de aplicar técnicas de Engenharia de Dados para solucionar problemas reais, contribuindo para o sucesso da equipe de Assinatura da Petlove.\n"
      ],
      "metadata": {
        "id": "vgGmiBSYjkTM"
      }
    },
    {
      "cell_type": "markdown",
      "source": [
        "## Análise de Churn: Filtros Estratégicos para Identificar Padrões e Tendências"
      ],
      "metadata": {
        "id": "YsmE26ILjkTP"
      }
    },
    {
      "cell_type": "markdown",
      "source": [
        "### 1. Clientes com Assinatura Pausada\n",
        "Inicialmente, foi realizada uma análise para verificar a quantidade de clientes em diferentes estados de assinatura: ativos, pausados e cancelados. Essa ação teve como objetivo compreender a distribuição dos clientes. Foi verificado que 8.524 clientes estão ativos, 971 estão com a assinatura pausada e 505 clientes cancelaram o serviço."
      ],
      "metadata": {
        "id": "ma7ZzKCijkTQ"
      }
    },
    {
      "cell_type": "code",
      "source": [
        "#@title \n",
        "import pandas as pd\n",
        "\n",
        "df = pd.read_csv(\"/content/data-test-analytics_5.csv\")\n",
        "\n",
        "paused = df['status'] == 'paused'\n",
        "paused = paused.sort_values(ascending=False)\n",
        "sum(paused)\n",
        "\n",
        "active = df['status'] == 'active'\n",
        "active = active.sort_values(ascending=False)\n",
        "sum(paused)\n",
        "\n",
        "canceled = df['status'] == 'canceled'\n",
        "canceled = canceled.sort_values(ascending=False)\n",
        "sum(paused)"
      ],
      "metadata": {
        "jupyter": {
          "source_hidden": true
        },
        "cellView": "form",
        "id": "mD_1rJBUjkTR"
      },
      "execution_count": null,
      "outputs": []
    },
    {
      "cell_type": "code",
      "source": [
        "#@title \n",
        "import matplotlib.pyplot as plt\n",
        "\n",
        "quantidades = df['status'].value_counts()\n",
        "\n",
        "plt.bar(quantidades.index, quantidades.values, width=0.2)\n",
        "\n",
        "plt.xlabel('Status')\n",
        "plt.ylabel('Quantidade')\n",
        "plt.title('Quantidades de clientes ativos, pausados e cancelados')\n",
        "\n",
        "for i, value in enumerate(quantidades.values):\n",
        "    plt.annotate(str(value), xy=(i, value), ha='center', va='bottom')\n",
        "\n",
        "plt.show()"
      ],
      "metadata": {
        "jupyter": {
          "source_hidden": true
        },
        "trusted": true,
        "cellView": "form",
        "id": "EsHo69bqjkTS"
      },
      "execution_count": null,
      "outputs": []
    },
    {
      "cell_type": "markdown",
      "source": [
        "<img src=\"https://i.ibb.co/D4WtfP7/grafico-pausados.png\">"
      ],
      "metadata": {
        "id": "QzIbXK1QjkTS"
      }
    },
    {
      "cell_type": "markdown",
      "source": [
        "Quando os clientes pausam suas assinaturas, isso pode indicar que eles estão enfrentando algum tipo de problema, insatisfação ou simplesmente querem interromper temporariamente o uso do serviço. Monitorar a quantidade de clientes pausados permite identificar padrões e tendências, fornecendo a oportunidade de intervir e resolver possíveis problemas, antes que os clientes decidam cancelar definitivamente.\n",
        "Os clientes pausados representam uma oportunidade de recuperação. Eles já demonstraram interesse no serviço e podem estar mais propensos a retomar suas assinaturas se os problemas ou preocupações forem abordados de forma eficaz."
      ],
      "metadata": {
        "id": "OmjJz8ShjkTT"
      }
    },
    {
      "cell_type": "markdown",
      "source": [
        "### 2. Tempo desde a última compra do cliente:\n",
        "\n",
        "Foi realizado um filtro para identificar os clientes que não fizeram compras há mais de 45 dias e foi obtido o total de 111 clientes. Essa análise é útil para identificar potenciais casos de churn, ou seja, clientes que podem estar em risco de cancelar a assinatura ou deixar de utilizar os serviços.\n",
        "\n",
        "A definição desse limite de tempo de 45 dias é uma estratégia para identificar clientes que estão inativos por um período considerável e essa informação pode ser valiosa para ações de reengajamento."
      ],
      "metadata": {
        "id": "wkGuxtRljkTT"
      }
    },
    {
      "cell_type": "code",
      "source": [
        "#@title \n",
        "data_referencia = pd.Timestamp('2021-02-16')\n",
        "\n",
        "limite_tempo = data_referencia - pd.DateOffset(days=45)\n",
        "\n",
        "df['last_date_purchase'] = pd.to_datetime(df['last_date_purchase'])\n",
        "\n",
        "churn = df[(df['last_date_purchase'] < limite_tempo) & (df['status'] == 'active')]\n",
        "\n",
        "len(churn)"
      ],
      "metadata": {
        "jupyter": {
          "source_hidden": true
        },
        "cellView": "form",
        "id": "zao6AgK-jkTU"
      },
      "execution_count": null,
      "outputs": []
    },
    {
      "cell_type": "markdown",
      "source": [
        "### 3. Queda no valor médio de gasto por pedido:\n",
        "\n",
        "Nesse passo, foram identificados os clientes com uma queda no valor médio de gasto ao longo do tempo desde a criação da assinatura até a data de análise. Esse filtro é importante para verificar clientes estão gastando menos com o passar do tempo, o que pode ser um sinal de desinteresse, insatisfação com o serviço ou até mesmo uma possível intenção de cancelamento no futuro."
      ],
      "metadata": {
        "id": "0DqCNC8hjkTV"
      }
    },
    {
      "cell_type": "code",
      "source": [
        "#@title \n",
        "data_analise = pd.to_datetime('2021-02-16')\n",
        "\n",
        "clientes_ativos = df[df['status'] == 'active'].copy()\n",
        "\n",
        "clientes_ativos['created_at'] = pd.to_datetime(clientes_ativos['created_at'])\n",
        "\n",
        "clientes_ativos['Media_Gasto_Desde_Criacao'] = clientes_ativos.apply(lambda row: clientes_ativos[(clientes_ativos['created_at'] <= row['created_at']) & (clientes_ativos['created_at'] <= data_analise)]['average_ticket'].mean(), axis=1)\n",
        "\n",
        "clientes_queda = clientes_ativos[clientes_ativos['average_ticket'] < clientes_ativos['Media_Gasto_Desde_Criacao']]\n",
        "\n",
        "clientes_queda.head(1000)"
      ],
      "metadata": {
        "jupyter": {
          "source_hidden": true
        },
        "cellView": "form",
        "id": "UdHQs-NDjkTW"
      },
      "execution_count": null,
      "outputs": []
    },
    {
      "cell_type": "markdown",
      "source": [
        "### 4. Churn por Estado:\n",
        "Aqui foi verificada a quantidade de churn por Estado brasileiro, fornecendo insights sobre a distribuição geográfica dos cancelamentos de assinaturas. Isso pode ser útil para identificar padrões ou tendências regionais que podem estar influenciando no churn dos clientes.\n",
        "\n",
        "A análise acerca de quais estados têm maior incidência de cancelamentos pode indicar problemas específicos nesses locais, como por exemplo, pode haver questões relacionadas ao atendimento ao cliente, logística, oferta de serviços ou até mesmo diferenças culturais que estão impactando negativamente a retenção de clientes em determinadas regiões."
      ],
      "metadata": {
        "id": "yyhPsIrRjkTW"
      }
    },
    {
      "cell_type": "code",
      "source": [
        "#@title \n",
        "import matplotlib.pyplot as plt\n",
        "\n",
        "cancelados_por_estado = df[df['status'] == 'canceled'].groupby('state').size()\n",
        "cancelados_por_estado = cancelados_por_estado.sort_values(ascending=False)\n",
        "\n",
        "tabela_cancelados_por_estado = pd.DataFrame({'Estado': cancelados_por_estado.index, 'Cancelados': cancelados_por_estado.values})\n",
        "\n",
        "plt.figure(figsize=(10, 6))\n",
        "\n",
        "estados = tabela_cancelados_por_estado['Estado']\n",
        "cancelamentos = tabela_cancelados_por_estado['Cancelados']\n",
        "\n",
        "plt.bar(estados, cancelamentos)\n",
        "\n",
        "for i in range(len(estados)):\n",
        "    plt.text(estados[i], cancelamentos[i], str(cancelamentos[i]), ha='center', va='bottom')\n",
        "\n",
        "plt.title('Churn por Estado')\n",
        "plt.xlabel('Estado')\n",
        "plt.ylabel('Número de Cancelamentos')\n",
        "\n",
        "plt.xticks(rotation=45)\n",
        "\n",
        "plt.show()"
      ],
      "metadata": {
        "jupyter": {
          "source_hidden": true
        },
        "cellView": "form",
        "id": "vxw92NL7jkTW"
      },
      "execution_count": null,
      "outputs": []
    },
    {
      "cell_type": "markdown",
      "source": [
        "<img src='https://i.ibb.co/3m3fMpq/Unknown-2.png'>"
      ],
      "metadata": {
        "id": "urmrHHmojkTX"
      }
    },
    {
      "cell_type": "markdown",
      "source": [
        "### 5. Churn Por Idade:\n",
        "\n",
        "A análise da quantidade de cancelamentos por faixa de idade pode fornecer insights valiosos sobre as preferências, necessidades e características dos clientes em cada faixa de idade. É possível identificar as faixas etárias que têm maior propensão a cancelar os serviços e identificar possíveis razões por trás disso.\n",
        "Além disso, a análise dos cancelamentos por faixa de idade permite segmentar o público-alvo e personalizar as estratégias de marketing e no desenvolvimento de ações específicas para reter clientes em diferentes faixas etárias."
      ],
      "metadata": {
        "id": "CfABIETYjkTY"
      }
    },
    {
      "cell_type": "code",
      "source": [
        "#@title \n",
        "from datetime import datetime\n",
        "\n",
        "df['birth_date'] = pd.to_datetime(df['birth_date'])\n",
        "\n",
        "data_atual = datetime.now()\n",
        "\n",
        "df['idade'] = (data_atual - df['birth_date']).astype('<m8[Y]')\n",
        "\n",
        "faixas_idade = [0, 18, 25, 35, 45, 55, float('inf')]\n",
        "labels_faixas = ['0-18', '19-25', '26-35', '36-45', '46-55', '55+']\n",
        "\n",
        "df['faixa_idade'] = pd.cut(df['idade'], bins=faixas_idade, labels=labels_faixas)\n",
        "\n",
        "cancelamentos_por_idade = df[df['status'] == 'canceled'].groupby('faixa_idade').size()\n",
        "\n",
        "print(cancelamentos_por_idade)\n"
      ],
      "metadata": {
        "jupyter": {
          "source_hidden": true
        },
        "cellView": "form",
        "id": "LNUGlrz0jkTY"
      },
      "execution_count": null,
      "outputs": []
    },
    {
      "cell_type": "code",
      "source": [
        "#@title \n",
        "import matplotlib.pyplot as plt\n",
        "\n",
        "cancelados_por_idade = df[df['status'] == 'canceled'].groupby('faixa_idade').size().reset_index(name='Cancelamentos')\n",
        "\n",
        "tabela_cancelamentos_por_idade = pd.DataFrame(cancelados_por_idade)\n",
        "\n",
        "plt.figure(figsize=(7, 3))\n",
        "\n",
        "faixas_idade = tabela_cancelamentos_por_idade['faixa_idade']\n",
        "cancelamentos = tabela_cancelamentos_por_idade['Cancelamentos']\n",
        "\n",
        "plt.bar(faixas_idade, cancelamentos)\n",
        "\n",
        "plt.title('Cancelamentos por Faixa de Idade')\n",
        "plt.xlabel('Faixa de Idade')\n",
        "plt.ylabel('Número de Cancelamentos')\n",
        "\n",
        "plt.xticks(rotation=45)\n",
        "\n",
        "plt.show()\n"
      ],
      "metadata": {
        "jupyter": {
          "source_hidden": true
        },
        "cellView": "form",
        "id": "-27Ej7ZojkTZ"
      },
      "execution_count": null,
      "outputs": []
    },
    {
      "cell_type": "markdown",
      "source": [
        "<img src=\"https://i.ibb.co/jMkjdN2/Unknown-3.png\">"
      ],
      "metadata": {
        "id": "irbSfEyNjkTZ"
      }
    },
    {
      "cell_type": "markdown",
      "source": [
        "### 6. Receita Perdida em Razão do Churn:\n",
        "Por último, foi calculada a média da receita dos clientes cancelados, totalizando o valor de R$ 1.059,40.\n",
        "\n",
        "Esse filtro tem o objetivo de avaliar o impacto financeiro e entender o valor médio que a empresa está perdendo devido aos cancelamentos. Isso ajuda a ter uma visão clara do impacto financeiro e a tomar decisões estratégicas para mitigar as perdas."
      ],
      "metadata": {
        "id": "v0-fdcBGjkTZ"
      }
    },
    {
      "cell_type": "code",
      "source": [
        "#@title \n",
        "clientes_cancelados = df[df['status'] == 'canceled']\n",
        "\n",
        "media_receita_cancelados = clientes_cancelados['all_revenue'].mean()\n",
        "\n",
        "print(media_receita_cancelados)"
      ],
      "metadata": {
        "jupyter": {
          "source_hidden": true
        },
        "cellView": "form",
        "id": "qvoMoNj8jkTZ"
      },
      "execution_count": null,
      "outputs": []
    },
    {
      "cell_type": "markdown",
      "source": [
        "## Próximos Passos\n",
        "\n",
        "Com base nas informações extraídas do DataFrame, aqui estão alguns insights:\n",
        "\n",
        "1. Clientes com assinatura pausada:\n",
        "   - Desenvolver estratégias para reativar os clientes pausados, como ofertas especiais, descontos ou brindes para incentivá-los a retomar a assinatura.\n",
        "   - Acompanhar a taxa de recorrência de pausas e analisar se há algum padrão sazonal ou recorrente.\n",
        "\n",
        "\n",
        "2. Clientes que não compram há mais de 45 dias:\n",
        "   - Realizar campanhas de reengajamento direcionadas aos clientes inativos, oferecendo descontos exclusivos, brindes ou novidades relacionadas aos produtos.\n",
        "   - Enviar lembretes personalizados aos clientes inativos, destacando os benefícios da assinatura e incentivando-os a retomar as compras.\n",
        "\n",
        "\n",
        "3. Clientes com queda no valor médio de gasto por pedido:\n",
        "   - Identificar os fatores que podem ter contribuído para a queda no valor médio de gasto por pedido, como mudança de preferências, insatisfação com os produtos ou problemas de logística.\n",
        "   - Realizar pesquisas ou enquetes com os clientes para obter feedback sobre a experiência de compra e descobrir maneiras de melhorar a oferta de produtos e serviços.\n",
        "   - Oferecer incentivos para os clientes aumentarem o valor médio de gasto por pedido, como descontos que recompensem compras maiores.\n",
        "\n",
        "\n",
        "4. Churn por Estado:\n",
        "   - Analisar os dados geográficos para identificar possíveis oportunidades de expansão em áreas com baixo churn e alto potencial de crescimento.\n",
        "   - Compreender as características demográficas e comportamentais dos clientes em diferentes Estados para adaptar as estratégias de marketing e comunicação, levando em consideração as particularidades de cada região.\n",
        "   - Avaliar se há questões específicas em determinados Estados que podem estar contribuindo para o churn, como problemas logísticos, concorrência ou falta de conhecimento sobre os benefícios da assinatura.\n",
        "   \n",
        "   \n",
        "5. Churn por idade:\n",
        "   - Analisar as faixas etárias com maior churn para identificar possíveis motivos de insatisfação ou necessidades não atendidas em relação aos produtos.\n",
        "   - Adaptar as estratégias de marketing e comunicação para melhor atender às necessidades e preferências das diferentes faixas etárias."
      ],
      "metadata": {
        "id": "v50godq9jkTa"
      }
    }
  ]
}